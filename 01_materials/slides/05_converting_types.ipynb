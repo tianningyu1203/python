{
  "cells": [
    {
      "cell_type": "markdown",
      "id": "94b61ac0",
      "metadata": {
        "id": "94b61ac0"
      },
      "source": [
        "## Converting between types\n",
        "\n",
        "Sometimes, we'll get string data that should be treated as a number, or vice versa. We can use the `str()`, `int()` and `float()` functions to convert between data types. If the argument to the type conversion function is not valid in the target data type, Python will produce an error."
      ]
    },
    {
      "cell_type": "markdown",
      "id": "2a84b460",
      "metadata": {},
      "source": [
        "## Contents:\n",
        "1. String to integer\n",
        "2. String to float\n",
        "3. Float and int to string"
      ]
    },
    {
      "cell_type": "markdown",
      "id": "edb37e4d",
      "metadata": {
        "id": "edb37e4d"
      },
      "source": [
        "#### String to integer"
      ]
    },
    {
      "cell_type": "code",
      "execution_count": null,
      "id": "5af84a29",
      "metadata": {
        "colab": {
          "base_uri": "https://localhost:8080/"
        },
        "id": "5af84a29",
        "outputId": "c3c7a489-8725-42a9-a740-4a7d9f953774"
      },
      "outputs": [],
      "source": [
        "int('17')"
      ]
    },
    {
      "cell_type": "code",
      "execution_count": null,
      "id": "fbf1894e",
      "metadata": {
        "colab": {
          "base_uri": "https://localhost:8080/",
          "height": 174
        },
        "id": "fbf1894e",
        "outputId": "aef07162-6ee3-4abc-ed20-f43dd5362213"
      },
      "outputs": [],
      "source": [
        "int('17.4')"
      ]
    },
    {
      "cell_type": "code",
      "execution_count": null,
      "id": "ed698bf3",
      "metadata": {
        "colab": {
          "base_uri": "https://localhost:8080/",
          "height": 174
        },
        "id": "ed698bf3",
        "outputId": "1e2528eb-4798-4f7b-a6ce-1134d726ce01"
      },
      "outputs": [],
      "source": [
        "int('me')"
      ]
    },
    {
      "cell_type": "markdown",
      "id": "5fc3ae9b",
      "metadata": {
        "id": "5fc3ae9b"
      },
      "source": [
        "#### String to float"
      ]
    },
    {
      "cell_type": "code",
      "execution_count": 1,
      "id": "516644f7",
      "metadata": {
        "colab": {
          "base_uri": "https://localhost:8080/"
        },
        "id": "516644f7",
        "outputId": "448db8d0-6a53-400f-cc7e-7ae4a123dbed"
      },
      "outputs": [
        {
          "data": {
            "text/plain": [
              "892.0"
            ]
          },
          "execution_count": 1,
          "metadata": {},
          "output_type": "execute_result"
        }
      ],
      "source": [
        "float('892')"
      ]
    },
    {
      "cell_type": "code",
      "execution_count": null,
      "id": "8eae35ae",
      "metadata": {},
      "outputs": [],
      "source": []
    },
    {
      "cell_type": "code",
      "execution_count": null,
      "id": "f9013665",
      "metadata": {
        "colab": {
          "base_uri": "https://localhost:8080/",
          "height": 174
        },
        "id": "f9013665",
        "outputId": "5b9ffe68-6a40-4394-a1e6-da8c1d62c2ef"
      },
      "outputs": [],
      "source": [
        "float('you')"
      ]
    },
    {
      "cell_type": "markdown",
      "id": "018ce02a",
      "metadata": {
        "id": "018ce02a"
      },
      "source": [
        "#### Float and int to string"
      ]
    },
    {
      "cell_type": "code",
      "execution_count": null,
      "id": "d750cc4f",
      "metadata": {
        "colab": {
          "base_uri": "https://localhost:8080/",
          "height": 35
        },
        "id": "d750cc4f",
        "outputId": "ac7d3c7a-e1da-4588-fd31-afa7fed415ed"
      },
      "outputs": [],
      "source": [
        "str(37.5)"
      ]
    },
    {
      "cell_type": "code",
      "execution_count": null,
      "id": "40d832c1",
      "metadata": {
        "colab": {
          "base_uri": "https://localhost:8080/",
          "height": 35
        },
        "id": "40d832c1",
        "outputId": "a32f85c1-3574-4c35-e020-10b7204bebb9"
      },
      "outputs": [],
      "source": [
        "str(20)"
      ]
    },
    {
      "cell_type": "code",
      "execution_count": null,
      "id": "bdc67737",
      "metadata": {
        "colab": {
          "base_uri": "https://localhost:8080/",
          "height": 35
        },
        "id": "bdc67737",
        "outputId": "60231eaf-67a3-4014-a660-e1e3660652a8"
      },
      "outputs": [],
      "source": [
        "'20' + str(37.5)"
      ]
    },
    {
      "cell_type": "markdown",
      "id": "6432e98f",
      "metadata": {},
      "source": [
        "## Exercise\n",
        "Fix the error in the previous notebook example:"
      ]
    },
    {
      "cell_type": "code",
      "execution_count": null,
      "id": "1f021388",
      "metadata": {},
      "outputs": [],
      "source": [
        "'The year is ' + 2020"
      ]
    }
  ],
  "metadata": {
    "celltoolbar": "Slideshow",
    "colab": {
      "collapsed_sections": [
        "0294d7fe",
        "b3f69e98",
        "cd134d80",
        "16f27979",
        "f1caca54",
        "3a700ac7",
        "722d2c13",
        "ed8b70b9"
      ],
      "provenance": [],
      "toc_visible": true
    },
    "kernelspec": {
      "display_name": "dsi_participant",
      "language": "python",
      "name": "python3"
    },
    "language_info": {
      "codemirror_mode": {
        "name": "ipython",
        "version": 3
      },
      "file_extension": ".py",
      "mimetype": "text/x-python",
      "name": "python",
      "nbconvert_exporter": "python",
      "pygments_lexer": "ipython3",
      "version": "3.9.15"
    },
    "rise": {
      "scroll": true,
      "theme": "solarized",
      "transition": "none"
    }
  },
  "nbformat": 4,
  "nbformat_minor": 5
}
